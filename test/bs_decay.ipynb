{
 "cells": [
  {
   "cell_type": "code",
   "execution_count": 31,
   "metadata": {},
   "outputs": [],
   "source": [
    "import uproot"
   ]
  },
  {
   "cell_type": "code",
   "execution_count": 32,
   "metadata": {},
   "outputs": [],
   "source": [
    "import pandas as pd"
   ]
  },
  {
   "cell_type": "code",
   "execution_count": 33,
   "metadata": {},
   "outputs": [],
   "source": [
    "import numpy as np"
   ]
  },
  {
   "cell_type": "code",
   "execution_count": 34,
   "metadata": {},
   "outputs": [
    {
     "name": "stdout",
     "output_type": "stream",
     "text": [
      "/lustre/home/adrianodif/analyses/das_exercise/cmssw13/src/MuMuTrkTrk/MuMuTrkTrk/test\r\n"
     ]
    }
   ],
   "source": [
    "!pwd"
   ]
  },
  {
   "cell_type": "code",
   "execution_count": 35,
   "metadata": {},
   "outputs": [],
   "source": [
    "import matplotlib.pyplot as plt"
   ]
  },
  {
   "cell_type": "code",
   "execution_count": 36,
   "metadata": {},
   "outputs": [
    {
     "name": "stdout",
     "output_type": "stream",
     "text": [
      "mumukk.root  mumukk_10kevents.root\r\n"
     ]
    }
   ],
   "source": [
    "!ls *root"
   ]
  },
  {
   "cell_type": "code",
   "execution_count": 37,
   "metadata": {},
   "outputs": [],
   "source": [
    "%matplotlib inline"
   ]
  },
  {
   "cell_type": "markdown",
   "metadata": {},
   "source": [
    "## $B_s^0 \\to J\\psi\\phi$ Decay"
   ]
  },
  {
   "cell_type": "code",
   "execution_count": 38,
   "metadata": {},
   "outputs": [
    {
     "name": "stdout",
     "output_type": "stream",
     "text": [
      "['rootuple;1', 'rootuple/CandidateTree;1', 'rootuple/UpsTree;1']\n"
     ]
    }
   ],
   "source": [
    "f = uproot.open(\"mumukk.root\")\n",
    "print(f.keys())"
   ]
  },
  {
   "cell_type": "code",
   "execution_count": 39,
   "metadata": {},
   "outputs": [],
   "source": [
    "tree = f[\"rootuple/CandidateTree\"]"
   ]
  },
  {
   "cell_type": "code",
   "execution_count": 40,
   "metadata": {},
   "outputs": [
    {
     "name": "stdout",
     "output_type": "stream",
     "text": [
      "name                 | typename                 | interpretation                \n",
      "---------------------+--------------------------+-------------------------------\n",
      "run                  | int32_t                  | AsDtype('>i4')\n",
      "event                | int32_t                  | AsDtype('>i4')\n",
      "nCandPerEvent        | int32_t                  | AsDtype('>i4')\n",
      "numPrimaryVertices   | int32_t                  | AsDtype('>i4')\n",
      "trigger              | int32_t                  | AsDtype('>i4')\n",
      "candidate_p4         | TLorentzVector           | AsStridedObjects(Model_TLor...\n",
      "track1_p4            | TLorentzVector           | AsStridedObjects(Model_TLor...\n",
      "track2_p4            | TLorentzVector           | AsStridedObjects(Model_TLor...\n",
      "ditrack_p4           | TLorentzVector           | AsStridedObjects(Model_TLor...\n",
      "dimuon_p4            | TLorentzVector           | AsStridedObjects(Model_TLor...\n",
      "muonp_p4             | TLorentzVector           | AsStridedObjects(Model_TLor...\n",
      "muonn_p4             | TLorentzVector           | AsStridedObjects(Model_TLor...\n",
      "invm1Skk             | double                   | AsDtype('>f8')\n",
      "invm2Skk             | double                   | AsDtype('>f8')\n",
      "iPVwithmuons         | int32_t                  | AsDtype('>i4')\n",
      "dimuon_vertexWeight  | int32_t                  | AsDtype('>i4')\n",
      "dimuon_vProb         | double                   | AsDtype('>f8')\n",
      "dimuon_vNChi2        | double                   | AsDtype('>f8')\n",
      "dimuon_DCA           | double                   | AsDtype('>f8')\n",
      "dimuon_ctauPV        | double                   | AsDtype('>f8')\n",
      "dimuon_ctauErrPV     | double                   | AsDtype('>f8')\n",
      "dimuon_cosAlpha      | double                   | AsDtype('>f8')\n",
      "dimuon_nSigma        | double                   | AsDtype('>f8')\n",
      "candidate_vMass      | double                   | AsDtype('>f8')\n",
      "candidate_vProb      | double                   | AsDtype('>f8')\n",
      "candidate_vChi2      | double                   | AsDtype('>f8')\n",
      "candidate_cosAlpha   | double                   | AsDtype('>f8')\n",
      "candidate_ctauPV     | double                   | AsDtype('>f8')\n",
      "candidate_ctauErrPV  | double                   | AsDtype('>f8')\n",
      "candidate_charge     | int32_t                  | AsDtype('>i4')\n",
      "candidate_lxy        | double                   | AsDtype('>f8')\n",
      "candidate_lxyErr     | double                   | AsDtype('>f8')\n",
      "candidate_lxyz       | double                   | AsDtype('>f8')\n",
      "candidate_lxyzErr    | double                   | AsDtype('>f8')\n",
      "thePrimaryV_X        | double                   | AsDtype('>f8')\n",
      "thePrimaryV_Y        | double                   | AsDtype('>f8')\n",
      "thePrimaryV_Z        | double                   | AsDtype('>f8')\n",
      "TheDecayVertex_X     | double                   | AsDtype('>f8')\n",
      "TheDecayVertex_Y     | double                   | AsDtype('>f8')\n",
      "TheDecayVertex_Z     | double                   | AsDtype('>f8')\n",
      "thePrimaryV_2D_po... | double                   | AsDtype('>f8')\n",
      "thePrimaryV_3D_po... | double                   | AsDtype('>f8')\n",
      "TheDecayVertex_2D... | double                   | AsDtype('>f8')\n",
      "TheDecayVertex_3D... | double                   | AsDtype('>f8')\n",
      "TheVertexDistance_2D | double                   | AsDtype('>f8')\n",
      "TheVertexDistance_3D | double                   | AsDtype('>f8')\n",
      "track1_d0            | double                   | AsDtype('>f8')\n",
      "track1_d0Err         | double                   | AsDtype('>f8')\n",
      "track1_dz            | double                   | AsDtype('>f8')\n",
      "track1_dzErr         | double                   | AsDtype('>f8')\n",
      "track1_dxy           | double                   | AsDtype('>f8')\n",
      "track1_dxyErr        | double                   | AsDtype('>f8')\n",
      "track1_nvsh          | int32_t                  | AsDtype('>i4')\n",
      "track1_nvph          | int32_t                  | AsDtype('>i4')\n",
      "track1_dRdimuon      | double                   | AsDtype('>f8')\n",
      "track1_charge        | double                   | AsDtype('>f8')\n",
      "track1_PV            | int32_t                  | AsDtype('>i4')\n",
      "track1_refVtx        | int32_t                  | AsDtype('>i4')\n",
      "track1_pvAssocQ      | int32_t                  | AsDtype('>i4')\n",
      "track1_dzAssocPV     | double                   | AsDtype('>f8')\n",
      "track2_d0            | double                   | AsDtype('>f8')\n",
      "track2_d0Err         | double                   | AsDtype('>f8')\n",
      "track2_dz            | double                   | AsDtype('>f8')\n",
      "track2_dzErr         | double                   | AsDtype('>f8')\n",
      "track2_dxy           | double                   | AsDtype('>f8')\n",
      "track2_dxyErr        | double                   | AsDtype('>f8')\n",
      "track2_nvsh          | int32_t                  | AsDtype('>i4')\n",
      "track2_nvph          | int32_t                  | AsDtype('>i4')\n",
      "track2_dRdimuon      | double                   | AsDtype('>f8')\n",
      "track2_charge        | double                   | AsDtype('>f8')\n",
      "track2_PV            | int32_t                  | AsDtype('>i4')\n",
      "track2_refVtx        | int32_t                  | AsDtype('>i4')\n",
      "track2_pvAssocQ      | int32_t                  | AsDtype('>i4')\n",
      "track2_dzAssocPV     | double                   | AsDtype('>f8')\n",
      "ditrack_dRdimuon     | double                   | AsDtype('>f8')\n",
      "gen_candidate_pdgId  | int32_t                  | AsDtype('>i4')\n",
      "gen_onia_pdgId       | int32_t                  | AsDtype('>i4')\n",
      "gen_candidate_p4     | TLorentzVector           | AsStridedObjects(Model_TLor...\n",
      "gen_dimuon_p4        | TLorentzVector           | AsStridedObjects(Model_TLor...\n",
      "gen_ditrack_p4       | TLorentzVector           | AsStridedObjects(Model_TLor...\n",
      "gen_track1_p4        | TLorentzVector           | AsStridedObjects(Model_TLor...\n",
      "gen_track1_pdgid     | int32_t                  | AsDtype('>i4')\n",
      "gen_track2_p4        | TLorentzVector           | AsStridedObjects(Model_TLor...\n",
      "gen_track2_pdgid     | int32_t                  | AsDtype('>i4')\n",
      "gen_muonp_p4         | TLorentzVector           | AsStridedObjects(Model_TLor...\n",
      "gen_muonn_p4         | TLorentzVector           | AsStridedObjects(Model_TLor...\n",
      "gen_candidate_charge | int32_t                  | AsDtype('>i4')\n"
     ]
    }
   ],
   "source": [
    "tree.show()"
   ]
  },
  {
   "cell_type": "code",
   "execution_count": 41,
   "metadata": {},
   "outputs": [],
   "source": [
    "mumutrktrk_df = tree.arrays(library=\"pd\")"
   ]
  },
  {
   "cell_type": "code",
   "execution_count": 42,
   "metadata": {},
   "outputs": [
    {
     "data": {
      "text/html": [
       "<div>\n",
       "<style scoped>\n",
       "    .dataframe tbody tr th:only-of-type {\n",
       "        vertical-align: middle;\n",
       "    }\n",
       "\n",
       "    .dataframe tbody tr th {\n",
       "        vertical-align: top;\n",
       "    }\n",
       "\n",
       "    .dataframe thead th {\n",
       "        text-align: right;\n",
       "    }\n",
       "</style>\n",
       "<table border=\"1\" class=\"dataframe\">\n",
       "  <thead>\n",
       "    <tr style=\"text-align: right;\">\n",
       "      <th></th>\n",
       "      <th>run</th>\n",
       "      <th>event</th>\n",
       "      <th>nCandPerEvent</th>\n",
       "      <th>numPrimaryVertices</th>\n",
       "      <th>trigger</th>\n",
       "      <th>candidate_p4</th>\n",
       "      <th>track1_p4</th>\n",
       "      <th>track2_p4</th>\n",
       "      <th>ditrack_p4</th>\n",
       "      <th>dimuon_p4</th>\n",
       "      <th>...</th>\n",
       "      <th>gen_candidate_p4</th>\n",
       "      <th>gen_dimuon_p4</th>\n",
       "      <th>gen_ditrack_p4</th>\n",
       "      <th>gen_track1_p4</th>\n",
       "      <th>gen_track1_pdgid</th>\n",
       "      <th>gen_track2_p4</th>\n",
       "      <th>gen_track2_pdgid</th>\n",
       "      <th>gen_muonp_p4</th>\n",
       "      <th>gen_muonn_p4</th>\n",
       "      <th>gen_candidate_charge</th>\n",
       "    </tr>\n",
       "  </thead>\n",
       "  <tbody>\n",
       "    <tr>\n",
       "      <th>0</th>\n",
       "      <td>1</td>\n",
       "      <td>4569</td>\n",
       "      <td>1</td>\n",
       "      <td>1</td>\n",
       "      <td>0</td>\n",
       "      <td>{'fP': {'fX': -10.607800192293274, 'fY': -7.97...</td>\n",
       "      <td>{'fP': {'fX': -0.8436747730534793, 'fY': -1.33...</td>\n",
       "      <td>{'fP': {'fX': -0.5899554673633698, 'fY': -1.34...</td>\n",
       "      <td>{'fP': {'fX': -1.433630240416849, 'fY': -2.676...</td>\n",
       "      <td>{'fP': {'fX': -9.174169951876426, 'fY': -5.296...</td>\n",
       "      <td>...</td>\n",
       "      <td>{'fP': {'fX': -10.601495592770007, 'fY': -7.94...</td>\n",
       "      <td>{'fP': {'fX': -9.16633552757321, 'fY': -5.2712...</td>\n",
       "      <td>{'fP': {'fX': -1.4351598328431807, 'fY': -2.67...</td>\n",
       "      <td>{'fP': {'fX': -0.8522694890709798, 'fY': -1.34...</td>\n",
       "      <td>321</td>\n",
       "      <td>{'fP': {'fX': -0.5828901454518819, 'fY': -1.33...</td>\n",
       "      <td>-321</td>\n",
       "      <td>{'fP': {'fX': -4.25311398097311, 'fY': -4.0550...</td>\n",
       "      <td>{'fP': {'fX': -4.912993305952113, 'fY': -1.216...</td>\n",
       "      <td>0</td>\n",
       "    </tr>\n",
       "    <tr>\n",
       "      <th>1</th>\n",
       "      <td>1</td>\n",
       "      <td>20524</td>\n",
       "      <td>1</td>\n",
       "      <td>1</td>\n",
       "      <td>0</td>\n",
       "      <td>{'fP': {'fX': -20.297725234052095, 'fY': 1.296...</td>\n",
       "      <td>{'fP': {'fX': -3.8233180595108673, 'fY': -0.70...</td>\n",
       "      <td>{'fP': {'fX': -2.630427840405546, 'fY': -0.434...</td>\n",
       "      <td>{'fP': {'fX': -6.453745899916413, 'fY': -1.144...</td>\n",
       "      <td>{'fP': {'fX': -13.843979334135682, 'fY': 2.440...</td>\n",
       "      <td>...</td>\n",
       "      <td>{'fP': {'fX': -20.334420466739136, 'fY': 1.293...</td>\n",
       "      <td>{'fP': {'fX': -13.863833291668167, 'fY': 2.441...</td>\n",
       "      <td>{'fP': {'fX': -6.4705875569712035, 'fY': -1.14...</td>\n",
       "      <td>{'fP': {'fX': -3.838129112251326, 'fY': -0.711...</td>\n",
       "      <td>321</td>\n",
       "      <td>{'fP': {'fX': -2.6324584090155816, 'fY': -0.43...</td>\n",
       "      <td>-321</td>\n",
       "      <td>{'fP': {'fX': -5.281250916121913, 'fY': 0.8347...</td>\n",
       "      <td>{'fP': {'fX': -8.58258260899321, 'fY': 1.60633...</td>\n",
       "      <td>0</td>\n",
       "    </tr>\n",
       "    <tr>\n",
       "      <th>2</th>\n",
       "      <td>1</td>\n",
       "      <td>19945</td>\n",
       "      <td>1</td>\n",
       "      <td>2</td>\n",
       "      <td>0</td>\n",
       "      <td>{'fP': {'fX': -10.079683658916645, 'fY': 6.564...</td>\n",
       "      <td>{'fP': {'fX': -0.8089778482700322, 'fY': 1.323...</td>\n",
       "      <td>{'fP': {'fX': -0.7269574257500572, 'fY': 1.343...</td>\n",
       "      <td>{'fP': {'fX': -1.5359352740200893, 'fY': 2.666...</td>\n",
       "      <td>{'fP': {'fX': -8.543748384896558, 'fY': 3.8986...</td>\n",
       "      <td>...</td>\n",
       "      <td>{'fP': {'fX': -10.098624580719815, 'fY': 6.651...</td>\n",
       "      <td>{'fP': {'fX': -8.543729317370094, 'fY': 3.9402...</td>\n",
       "      <td>{'fP': {'fX': -1.5548956762714627, 'fY': 2.711...</td>\n",
       "      <td>{'fP': {'fX': -0.8265498241862123, 'fY': 1.371...</td>\n",
       "      <td>321</td>\n",
       "      <td>{'fP': {'fX': -0.7283459888374388, 'fY': 1.340...</td>\n",
       "      <td>-321</td>\n",
       "      <td>{'fP': {'fX': -5.077300859915339, 'fY': 0.8849...</td>\n",
       "      <td>{'fP': {'fX': -3.4664287754929024, 'fY': 3.055...</td>\n",
       "      <td>0</td>\n",
       "    </tr>\n",
       "    <tr>\n",
       "      <th>3</th>\n",
       "      <td>1</td>\n",
       "      <td>10138</td>\n",
       "      <td>1</td>\n",
       "      <td>1</td>\n",
       "      <td>2</td>\n",
       "      <td>{'fP': {'fX': 28.488870215890984, 'fY': -17.10...</td>\n",
       "      <td>{'fP': {'fX': 1.6835632461107102, 'fY': -0.382...</td>\n",
       "      <td>{'fP': {'fX': 1.346006087247659, 'fY': -0.5264...</td>\n",
       "      <td>{'fP': {'fX': 3.029569333358369, 'fY': -0.9094...</td>\n",
       "      <td>{'fP': {'fX': 25.459300882532613, 'fY': -16.19...</td>\n",
       "      <td>...</td>\n",
       "      <td>{'fP': {'fX': 28.543898453676327, 'fY': -17.14...</td>\n",
       "      <td>{'fP': {'fX': 25.573696526409382, 'fY': -16.25...</td>\n",
       "      <td>{'fP': {'fX': 2.970202463058324, 'fY': -0.8929...</td>\n",
       "      <td>{'fP': {'fX': 1.3122776521191315, 'fY': -0.518...</td>\n",
       "      <td>321</td>\n",
       "      <td>{'fP': {'fX': 1.6579248323778064, 'fY': -0.374...</td>\n",
       "      <td>-321</td>\n",
       "      <td>{'fP': {'fX': 9.919427435938683, 'fY': -7.5605...</td>\n",
       "      <td>{'fP': {'fX': 15.65426908855133, 'fY': -8.6894...</td>\n",
       "      <td>0</td>\n",
       "    </tr>\n",
       "    <tr>\n",
       "      <th>4</th>\n",
       "      <td>1</td>\n",
       "      <td>19449</td>\n",
       "      <td>1</td>\n",
       "      <td>2</td>\n",
       "      <td>0</td>\n",
       "      <td>{'fP': {'fX': 28.125132572961288, 'fY': 12.370...</td>\n",
       "      <td>{'fP': {'fX': 3.883703513437594, 'fY': 1.06599...</td>\n",
       "      <td>{'fP': {'fX': 5.870110210169286, 'fY': 1.56139...</td>\n",
       "      <td>{'fP': {'fX': 9.75381372360688, 'fY': 2.627384...</td>\n",
       "      <td>{'fP': {'fX': 18.371318849354413, 'fY': 9.7435...</td>\n",
       "      <td>...</td>\n",
       "      <td>{'fP': {'fX': 28.460316916720764, 'fY': 12.513...</td>\n",
       "      <td>{'fP': {'fX': 18.59588843610038, 'fY': 9.85446...</td>\n",
       "      <td>{'fP': {'fX': 9.864428473504724, 'fY': 2.65922...</td>\n",
       "      <td>{'fP': {'fX': 3.8126946597485616, 'fY': 1.0443...</td>\n",
       "      <td>321</td>\n",
       "      <td>{'fP': {'fX': 6.051734106955868, 'fY': 1.61490...</td>\n",
       "      <td>-321</td>\n",
       "      <td>{'fP': {'fX': 14.231348765967438, 'fY': 8.0185...</td>\n",
       "      <td>{'fP': {'fX': 4.364530947364618, 'fY': 1.83590...</td>\n",
       "      <td>0</td>\n",
       "    </tr>\n",
       "  </tbody>\n",
       "</table>\n",
       "<p>5 rows × 87 columns</p>\n",
       "</div>"
      ],
      "text/plain": [
       "   run  event  nCandPerEvent  numPrimaryVertices  trigger   \n",
       "0    1   4569              1                   1        0  \\\n",
       "1    1  20524              1                   1        0   \n",
       "2    1  19945              1                   2        0   \n",
       "3    1  10138              1                   1        2   \n",
       "4    1  19449              1                   2        0   \n",
       "\n",
       "                                        candidate_p4   \n",
       "0  {'fP': {'fX': -10.607800192293274, 'fY': -7.97...  \\\n",
       "1  {'fP': {'fX': -20.297725234052095, 'fY': 1.296...   \n",
       "2  {'fP': {'fX': -10.079683658916645, 'fY': 6.564...   \n",
       "3  {'fP': {'fX': 28.488870215890984, 'fY': -17.10...   \n",
       "4  {'fP': {'fX': 28.125132572961288, 'fY': 12.370...   \n",
       "\n",
       "                                           track1_p4   \n",
       "0  {'fP': {'fX': -0.8436747730534793, 'fY': -1.33...  \\\n",
       "1  {'fP': {'fX': -3.8233180595108673, 'fY': -0.70...   \n",
       "2  {'fP': {'fX': -0.8089778482700322, 'fY': 1.323...   \n",
       "3  {'fP': {'fX': 1.6835632461107102, 'fY': -0.382...   \n",
       "4  {'fP': {'fX': 3.883703513437594, 'fY': 1.06599...   \n",
       "\n",
       "                                           track2_p4   \n",
       "0  {'fP': {'fX': -0.5899554673633698, 'fY': -1.34...  \\\n",
       "1  {'fP': {'fX': -2.630427840405546, 'fY': -0.434...   \n",
       "2  {'fP': {'fX': -0.7269574257500572, 'fY': 1.343...   \n",
       "3  {'fP': {'fX': 1.346006087247659, 'fY': -0.5264...   \n",
       "4  {'fP': {'fX': 5.870110210169286, 'fY': 1.56139...   \n",
       "\n",
       "                                          ditrack_p4   \n",
       "0  {'fP': {'fX': -1.433630240416849, 'fY': -2.676...  \\\n",
       "1  {'fP': {'fX': -6.453745899916413, 'fY': -1.144...   \n",
       "2  {'fP': {'fX': -1.5359352740200893, 'fY': 2.666...   \n",
       "3  {'fP': {'fX': 3.029569333358369, 'fY': -0.9094...   \n",
       "4  {'fP': {'fX': 9.75381372360688, 'fY': 2.627384...   \n",
       "\n",
       "                                           dimuon_p4  ...   \n",
       "0  {'fP': {'fX': -9.174169951876426, 'fY': -5.296...  ...  \\\n",
       "1  {'fP': {'fX': -13.843979334135682, 'fY': 2.440...  ...   \n",
       "2  {'fP': {'fX': -8.543748384896558, 'fY': 3.8986...  ...   \n",
       "3  {'fP': {'fX': 25.459300882532613, 'fY': -16.19...  ...   \n",
       "4  {'fP': {'fX': 18.371318849354413, 'fY': 9.7435...  ...   \n",
       "\n",
       "                                    gen_candidate_p4   \n",
       "0  {'fP': {'fX': -10.601495592770007, 'fY': -7.94...  \\\n",
       "1  {'fP': {'fX': -20.334420466739136, 'fY': 1.293...   \n",
       "2  {'fP': {'fX': -10.098624580719815, 'fY': 6.651...   \n",
       "3  {'fP': {'fX': 28.543898453676327, 'fY': -17.14...   \n",
       "4  {'fP': {'fX': 28.460316916720764, 'fY': 12.513...   \n",
       "\n",
       "                                       gen_dimuon_p4   \n",
       "0  {'fP': {'fX': -9.16633552757321, 'fY': -5.2712...  \\\n",
       "1  {'fP': {'fX': -13.863833291668167, 'fY': 2.441...   \n",
       "2  {'fP': {'fX': -8.543729317370094, 'fY': 3.9402...   \n",
       "3  {'fP': {'fX': 25.573696526409382, 'fY': -16.25...   \n",
       "4  {'fP': {'fX': 18.59588843610038, 'fY': 9.85446...   \n",
       "\n",
       "                                      gen_ditrack_p4   \n",
       "0  {'fP': {'fX': -1.4351598328431807, 'fY': -2.67...  \\\n",
       "1  {'fP': {'fX': -6.4705875569712035, 'fY': -1.14...   \n",
       "2  {'fP': {'fX': -1.5548956762714627, 'fY': 2.711...   \n",
       "3  {'fP': {'fX': 2.970202463058324, 'fY': -0.8929...   \n",
       "4  {'fP': {'fX': 9.864428473504724, 'fY': 2.65922...   \n",
       "\n",
       "                                       gen_track1_p4  gen_track1_pdgid   \n",
       "0  {'fP': {'fX': -0.8522694890709798, 'fY': -1.34...               321  \\\n",
       "1  {'fP': {'fX': -3.838129112251326, 'fY': -0.711...               321   \n",
       "2  {'fP': {'fX': -0.8265498241862123, 'fY': 1.371...               321   \n",
       "3  {'fP': {'fX': 1.3122776521191315, 'fY': -0.518...               321   \n",
       "4  {'fP': {'fX': 3.8126946597485616, 'fY': 1.0443...               321   \n",
       "\n",
       "                                       gen_track2_p4  gen_track2_pdgid   \n",
       "0  {'fP': {'fX': -0.5828901454518819, 'fY': -1.33...              -321  \\\n",
       "1  {'fP': {'fX': -2.6324584090155816, 'fY': -0.43...              -321   \n",
       "2  {'fP': {'fX': -0.7283459888374388, 'fY': 1.340...              -321   \n",
       "3  {'fP': {'fX': 1.6579248323778064, 'fY': -0.374...              -321   \n",
       "4  {'fP': {'fX': 6.051734106955868, 'fY': 1.61490...              -321   \n",
       "\n",
       "                                        gen_muonp_p4   \n",
       "0  {'fP': {'fX': -4.25311398097311, 'fY': -4.0550...  \\\n",
       "1  {'fP': {'fX': -5.281250916121913, 'fY': 0.8347...   \n",
       "2  {'fP': {'fX': -5.077300859915339, 'fY': 0.8849...   \n",
       "3  {'fP': {'fX': 9.919427435938683, 'fY': -7.5605...   \n",
       "4  {'fP': {'fX': 14.231348765967438, 'fY': 8.0185...   \n",
       "\n",
       "                                        gen_muonn_p4  gen_candidate_charge  \n",
       "0  {'fP': {'fX': -4.912993305952113, 'fY': -1.216...                     0  \n",
       "1  {'fP': {'fX': -8.58258260899321, 'fY': 1.60633...                     0  \n",
       "2  {'fP': {'fX': -3.4664287754929024, 'fY': 3.055...                     0  \n",
       "3  {'fP': {'fX': 15.65426908855133, 'fY': -8.6894...                     0  \n",
       "4  {'fP': {'fX': 4.364530947364618, 'fY': 1.83590...                     0  \n",
       "\n",
       "[5 rows x 87 columns]"
      ]
     },
     "execution_count": 42,
     "metadata": {},
     "output_type": "execute_result"
    }
   ],
   "source": [
    "mumutrktrk_df.head()"
   ]
  },
  {
   "cell_type": "code",
   "execution_count": 43,
   "metadata": {},
   "outputs": [],
   "source": [
    "mumutrktrk_mass = mumutrktrk_df[\"candidate_vMass\"]"
   ]
  },
  {
   "cell_type": "code",
   "execution_count": 44,
   "metadata": {},
   "outputs": [],
   "source": [
    "B = 100\n",
    "R = (5.0,6.0)\n",
    "BW = (R[1]-R[0])/B * 1000"
   ]
  },
  {
   "cell_type": "code",
   "execution_count": 49,
   "metadata": {},
   "outputs": [
    {
     "data": {
      "image/png": "[encoded data removed]",
      "text/plain": [
       "<Figure size 1200x900 with 1 Axes>"
      ]
     },
     "metadata": {},
     "output_type": "display_data"
    }
   ],
   "source": [
    "n_cands = mumutrktrk_df[\"nCandPerEvent\"].sum()\n",
    "\n",
    "plt.figure()\n",
    "plt.hist(mumutrktrk_mass,range=R,bins=B,color=\"blue\",label=r\"$N_{candidates}$ = %d\"%(n_cands))\n",
    "\n",
    "plt.legend(fontsize = 16)\n",
    "plt.xlabel(\"$M(B_s) [GeV]$\",fontsize=14)\n",
    "plt.ylabel(\"Entries / %.2f MeV\"%BW,fontsize=14)\n",
    "\n",
    "plt.title(r\"$B_s \\to J\\psi \\Phi \\to \\mu\\mu KK$\",fontsize=20);"
   ]
  },
  {
   "cell_type": "code",
   "execution_count": 48,
   "metadata": {},
   "outputs": [
    {
     "data": {
      "text/plain": [
       "10.0"
      ]
     },
     "execution_count": 48,
     "metadata": {},
     "output_type": "execute_result"
    }
   ],
   "source": []
  },
  {
   "cell_type": "code",
   "execution_count": null,
   "metadata": {},
   "outputs": [],
   "source": []
  }
 ],
 "metadata": {
  "kernelspec": {
   "display_name": "Python 3 (ipykernel)",
   "language": "python",
   "name": "python3"
  },
  "language_info": {
   "codemirror_mode": {
    "name": "ipython",
    "version": 3
   },
   "file_extension": ".py",
   "mimetype": "text/x-python",
   "name": "python",
   "nbconvert_exporter": "python",
   "pygments_lexer": "ipython3",
   "version": "3.9.14"
  }
 },
 "nbformat": 4,
 "nbformat_minor": 4
}
