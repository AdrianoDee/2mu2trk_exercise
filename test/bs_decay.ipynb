{
 "cells": [
  {
   "cell_type": "code",
   "execution_count": 2,
   "metadata": {},
   "outputs": [],
   "source": [
    "import uproot"
   ]
  },
  {
   "cell_type": "code",
   "execution_count": 3,
   "metadata": {},
   "outputs": [],
   "source": [
    "import pandas as pd"
   ]
  },
  {
   "cell_type": "code",
   "execution_count": 4,
   "metadata": {},
   "outputs": [],
   "source": [
    "import numpy as np"
   ]
  },
  {
   "cell_type": "code",
   "execution_count": 5,
   "metadata": {},
   "outputs": [
    {
     "name": "stdout",
     "output_type": "stream",
     "text": [
      "/lustre/home/adrianodif/analyses/das_exercise/cmssw13/src/Ponia/Onia/test\r\n"
     ]
    }
   ],
   "source": [
    "!pwd"
   ]
  },
  {
   "cell_type": "code",
   "execution_count": 6,
   "metadata": {},
   "outputs": [],
   "source": [
    "import matplotlib.pyplot as plt"
   ]
  },
  {
   "cell_type": "code",
   "execution_count": 7,
   "metadata": {},
   "outputs": [
    {
     "name": "stdout",
     "output_type": "stream",
     "text": [
      "2684afdf-1fec-4918-bdcc-b080c57030fd.root  mumukk.root\r\n"
     ]
    }
   ],
   "source": [
    "!ls *root"
   ]
  },
  {
   "cell_type": "markdown",
   "metadata": {},
   "source": [
    "### Bs To JPsiPhi"
   ]
  },
  {
   "cell_type": "code",
   "execution_count": 21,
   "metadata": {},
   "outputs": [
    {
     "name": "stdout",
     "output_type": "stream",
     "text": [
      "['rootuple;1', 'rootuple/CandidateTree;1', 'rootuple/UpsTree;1']\n"
     ]
    }
   ],
   "source": [
    "f = uproot.open(\"mumukk.root\")\n",
    "print(f.keys())"
   ]
  },
  {
   "cell_type": "code",
   "execution_count": 22,
   "metadata": {},
   "outputs": [],
   "source": [
    "tree = f[\"rootuple/CandidateTree\"]"
   ]
  },
  {
   "cell_type": "code",
   "execution_count": 23,
   "metadata": {},
   "outputs": [
    {
     "name": "stdout",
     "output_type": "stream",
     "text": [
      "name                 | typename                 | interpretation                \n",
      "---------------------+--------------------------+-------------------------------\n",
      "run                  | int32_t                  | AsDtype('>i4')\n",
      "event                | int32_t                  | AsDtype('>i4')\n",
      "nCandPerEvent        | int32_t                  | AsDtype('>i4')\n",
      "numPrimaryVertices   | int32_t                  | AsDtype('>i4')\n",
      "trigger              | int32_t                  | AsDtype('>i4')\n",
      "candidate_p4         | TLorentzVector           | AsStridedObjects(Model_TLor...\n",
      "track1_p4            | TLorentzVector           | AsStridedObjects(Model_TLor...\n",
      "track2_p4            | TLorentzVector           | AsStridedObjects(Model_TLor...\n",
      "ditrack_p4           | TLorentzVector           | AsStridedObjects(Model_TLor...\n",
      "dimuon_p4            | TLorentzVector           | AsStridedObjects(Model_TLor...\n",
      "muonp_p4             | TLorentzVector           | AsStridedObjects(Model_TLor...\n",
      "muonn_p4             | TLorentzVector           | AsStridedObjects(Model_TLor...\n",
      "invm1Skk             | double                   | AsDtype('>f8')\n",
      "invm2Skk             | double                   | AsDtype('>f8')\n",
      "iPVwithmuons         | int32_t                  | AsDtype('>i4')\n",
      "dimuon_vertexWeight  | int32_t                  | AsDtype('>i4')\n",
      "dimuon_vProb         | double                   | AsDtype('>f8')\n",
      "dimuon_vNChi2        | double                   | AsDtype('>f8')\n",
      "dimuon_DCA           | double                   | AsDtype('>f8')\n",
      "dimuon_ctauPV        | double                   | AsDtype('>f8')\n",
      "dimuon_ctauErrPV     | double                   | AsDtype('>f8')\n",
      "dimuon_cosAlpha      | double                   | AsDtype('>f8')\n",
      "dimuon_nSigma        | double                   | AsDtype('>f8')\n",
      "candidate_vMass      | double                   | AsDtype('>f8')\n",
      "candidate_vProb      | double                   | AsDtype('>f8')\n",
      "candidate_vChi2      | double                   | AsDtype('>f8')\n",
      "candidate_cosAlpha   | double                   | AsDtype('>f8')\n",
      "candidate_ctauPV     | double                   | AsDtype('>f8')\n",
      "candidate_ctauErrPV  | double                   | AsDtype('>f8')\n",
      "candidate_charge     | int32_t                  | AsDtype('>i4')\n",
      "candidate_lxy        | double                   | AsDtype('>f8')\n",
      "candidate_lxyErr     | double                   | AsDtype('>f8')\n",
      "candidate_lxyz       | double                   | AsDtype('>f8')\n",
      "candidate_lxyzErr    | double                   | AsDtype('>f8')\n",
      "thePrimaryV_X        | double                   | AsDtype('>f8')\n",
      "thePrimaryV_Y        | double                   | AsDtype('>f8')\n",
      "thePrimaryV_Z        | double                   | AsDtype('>f8')\n",
      "TheDecayVertex_X     | double                   | AsDtype('>f8')\n",
      "TheDecayVertex_Y     | double                   | AsDtype('>f8')\n",
      "TheDecayVertex_Z     | double                   | AsDtype('>f8')\n",
      "thePrimaryV_2D_po... | double                   | AsDtype('>f8')\n",
      "thePrimaryV_3D_po... | double                   | AsDtype('>f8')\n",
      "TheDecayVertex_2D... | double                   | AsDtype('>f8')\n",
      "TheDecayVertex_3D... | double                   | AsDtype('>f8')\n",
      "TheVertexDistance_2D | double                   | AsDtype('>f8')\n",
      "TheVertexDistance_3D | double                   | AsDtype('>f8')\n",
      "track1_d0            | double                   | AsDtype('>f8')\n",
      "track1_d0Err         | double                   | AsDtype('>f8')\n",
      "track1_dz            | double                   | AsDtype('>f8')\n",
      "track1_dzErr         | double                   | AsDtype('>f8')\n",
      "track1_dxy           | double                   | AsDtype('>f8')\n",
      "track1_dxyErr        | double                   | AsDtype('>f8')\n",
      "track1_nvsh          | int32_t                  | AsDtype('>i4')\n",
      "track1_nvph          | int32_t                  | AsDtype('>i4')\n",
      "track1_dRdimuon      | double                   | AsDtype('>f8')\n",
      "track1_charge        | double                   | AsDtype('>f8')\n",
      "track1_PV            | int32_t                  | AsDtype('>i4')\n",
      "track1_refVtx        | int32_t                  | AsDtype('>i4')\n",
      "track1_pvAssocQ      | int32_t                  | AsDtype('>i4')\n",
      "track1_dzAssocPV     | double                   | AsDtype('>f8')\n",
      "track2_d0            | double                   | AsDtype('>f8')\n",
      "track2_d0Err         | double                   | AsDtype('>f8')\n",
      "track2_dz            | double                   | AsDtype('>f8')\n",
      "track2_dzErr         | double                   | AsDtype('>f8')\n",
      "track2_dxy           | double                   | AsDtype('>f8')\n",
      "track2_dxyErr        | double                   | AsDtype('>f8')\n",
      "track2_nvsh          | int32_t                  | AsDtype('>i4')\n",
      "track2_nvph          | int32_t                  | AsDtype('>i4')\n",
      "track2_dRdimuon      | double                   | AsDtype('>f8')\n",
      "track2_charge        | double                   | AsDtype('>f8')\n",
      "track2_PV            | int32_t                  | AsDtype('>i4')\n",
      "track2_refVtx        | int32_t                  | AsDtype('>i4')\n",
      "track2_pvAssocQ      | int32_t                  | AsDtype('>i4')\n",
      "track2_dzAssocPV     | double                   | AsDtype('>f8')\n",
      "ditrack_dRdimuon     | double                   | AsDtype('>f8')\n",
      "gen_candidate_pdgId  | int32_t                  | AsDtype('>i4')\n",
      "gen_onia_pdgId       | int32_t                  | AsDtype('>i4')\n",
      "gen_candidate_p4     | TLorentzVector           | AsStridedObjects(Model_TLor...\n",
      "gen_dimuon_p4        | TLorentzVector           | AsStridedObjects(Model_TLor...\n",
      "gen_ditrack_p4       | TLorentzVector           | AsStridedObjects(Model_TLor...\n",
      "gen_track1_p4        | TLorentzVector           | AsStridedObjects(Model_TLor...\n",
      "gen_track1_pdgid     | int32_t                  | AsDtype('>i4')\n",
      "gen_track2_p4        | TLorentzVector           | AsStridedObjects(Model_TLor...\n",
      "gen_track2_pdgid     | int32_t                  | AsDtype('>i4')\n",
      "gen_muonp_p4         | TLorentzVector           | AsStridedObjects(Model_TLor...\n",
      "gen_muonn_p4         | TLorentzVector           | AsStridedObjects(Model_TLor...\n",
      "gen_candidate_charge | int32_t                  | AsDtype('>i4')\n"
     ]
    }
   ],
   "source": [
    "tree.show()"
   ]
  },
  {
   "cell_type": "code",
   "execution_count": 24,
   "metadata": {},
   "outputs": [],
   "source": [
    "mumutrktrk_df = tree.arrays(library=\"pd\")"
   ]
  },
  {
   "cell_type": "code",
   "execution_count": 25,
   "metadata": {},
   "outputs": [
    {
     "data": {
      "text/html": [
       "<div>\n",
       "<style scoped>\n",
       "    .dataframe tbody tr th:only-of-type {\n",
       "        vertical-align: middle;\n",
       "    }\n",
       "\n",
       "    .dataframe tbody tr th {\n",
       "        vertical-align: top;\n",
       "    }\n",
       "\n",
       "    .dataframe thead th {\n",
       "        text-align: right;\n",
       "    }\n",
       "</style>\n",
       "<table border=\"1\" class=\"dataframe\">\n",
       "  <thead>\n",
       "    <tr style=\"text-align: right;\">\n",
       "      <th></th>\n",
       "      <th>run</th>\n",
       "      <th>event</th>\n",
       "      <th>nCandPerEvent</th>\n",
       "      <th>numPrimaryVertices</th>\n",
       "      <th>trigger</th>\n",
       "      <th>candidate_p4</th>\n",
       "      <th>track1_p4</th>\n",
       "      <th>track2_p4</th>\n",
       "      <th>ditrack_p4</th>\n",
       "      <th>dimuon_p4</th>\n",
       "      <th>...</th>\n",
       "      <th>gen_candidate_p4</th>\n",
       "      <th>gen_dimuon_p4</th>\n",
       "      <th>gen_ditrack_p4</th>\n",
       "      <th>gen_track1_p4</th>\n",
       "      <th>gen_track1_pdgid</th>\n",
       "      <th>gen_track2_p4</th>\n",
       "      <th>gen_track2_pdgid</th>\n",
       "      <th>gen_muonp_p4</th>\n",
       "      <th>gen_muonn_p4</th>\n",
       "      <th>gen_candidate_charge</th>\n",
       "    </tr>\n",
       "  </thead>\n",
       "  <tbody>\n",
       "    <tr>\n",
       "      <th>0</th>\n",
       "      <td>1</td>\n",
       "      <td>4569</td>\n",
       "      <td>1</td>\n",
       "      <td>1</td>\n",
       "      <td>0</td>\n",
       "      <td>{'fP': {'fX': -10.607800192293274, 'fY': -7.97...</td>\n",
       "      <td>{'fP': {'fX': -0.8436747730534793, 'fY': -1.33...</td>\n",
       "      <td>{'fP': {'fX': -0.5899554673633698, 'fY': -1.34...</td>\n",
       "      <td>{'fP': {'fX': -1.433630240416849, 'fY': -2.676...</td>\n",
       "      <td>{'fP': {'fX': -9.174169951876426, 'fY': -5.296...</td>\n",
       "      <td>...</td>\n",
       "      <td>{'fP': {'fX': -10.601495592770007, 'fY': -7.94...</td>\n",
       "      <td>{'fP': {'fX': -9.16633552757321, 'fY': -5.2712...</td>\n",
       "      <td>{'fP': {'fX': -1.4351598328431807, 'fY': -2.67...</td>\n",
       "      <td>{'fP': {'fX': -0.8522694890709798, 'fY': -1.34...</td>\n",
       "      <td>321</td>\n",
       "      <td>{'fP': {'fX': -0.5828901454518819, 'fY': -1.33...</td>\n",
       "      <td>-321</td>\n",
       "      <td>{'fP': {'fX': -4.25311398097311, 'fY': -4.0550...</td>\n",
       "      <td>{'fP': {'fX': -4.912993305952113, 'fY': -1.216...</td>\n",
       "      <td>0</td>\n",
       "    </tr>\n",
       "    <tr>\n",
       "      <th>1</th>\n",
       "      <td>1</td>\n",
       "      <td>10869</td>\n",
       "      <td>1</td>\n",
       "      <td>2</td>\n",
       "      <td>0</td>\n",
       "      <td>{'fP': {'fX': -23.599561454715104, 'fY': 29.28...</td>\n",
       "      <td>{'fP': {'fX': -4.912656531348302, 'fY': 5.2089...</td>\n",
       "      <td>{'fP': {'fX': -7.549858403886339, 'fY': 8.1284...</td>\n",
       "      <td>{'fP': {'fX': -12.46251493523464, 'fY': 13.337...</td>\n",
       "      <td>{'fP': {'fX': -11.13704651948046, 'fY': 15.950...</td>\n",
       "      <td>...</td>\n",
       "      <td>{'fP': {'fX': -23.593303155908096, 'fY': 29.19...</td>\n",
       "      <td>{'fP': {'fX': -11.091695695226177, 'fY': 15.81...</td>\n",
       "      <td>{'fP': {'fX': -12.501612150718156, 'fY': 13.37...</td>\n",
       "      <td>{'fP': {'fX': -5.00133516631274, 'fY': 5.30425...</td>\n",
       "      <td>321</td>\n",
       "      <td>{'fP': {'fX': -7.500276380860765, 'fY': 8.0740...</td>\n",
       "      <td>-321</td>\n",
       "      <td>{'fP': {'fX': -3.074466227521373, 'fY': 2.9004...</td>\n",
       "      <td>{'fP': {'fX': -8.017215596623757, 'fY': 12.914...</td>\n",
       "      <td>0</td>\n",
       "    </tr>\n",
       "    <tr>\n",
       "      <th>2</th>\n",
       "      <td>1</td>\n",
       "      <td>9819</td>\n",
       "      <td>2</td>\n",
       "      <td>1</td>\n",
       "      <td>0</td>\n",
       "      <td>{'fP': {'fX': -8.501415817267192, 'fY': -12.54...</td>\n",
       "      <td>{'fP': {'fX': -0.3150685143269803, 'fY': -1.36...</td>\n",
       "      <td>{'fP': {'fX': -0.4387405040253553, 'fY': -2.30...</td>\n",
       "      <td>{'fP': {'fX': -0.7538090183523356, 'fY': -3.67...</td>\n",
       "      <td>{'fP': {'fX': -7.747606798914859, 'fY': -8.873...</td>\n",
       "      <td>...</td>\n",
       "      <td>{'fP': {'fX': -8.425411505759826, 'fY': -12.48...</td>\n",
       "      <td>{'fP': {'fX': -7.667214036509944, 'fY': -8.802...</td>\n",
       "      <td>{'fP': {'fX': -0.7581992583694551, 'fY': -3.68...</td>\n",
       "      <td>{'fP': {'fX': -0.32165937136645123, 'fY': -1.3...</td>\n",
       "      <td>321</td>\n",
       "      <td>{'fP': {'fX': -0.4365397502883486, 'fY': -2.29...</td>\n",
       "      <td>-321</td>\n",
       "      <td>{'fP': {'fX': -2.9698838822726104, 'fY': -3.98...</td>\n",
       "      <td>{'fP': {'fX': -4.69732858379471, 'fY': -4.8190...</td>\n",
       "      <td>0</td>\n",
       "    </tr>\n",
       "    <tr>\n",
       "      <th>3</th>\n",
       "      <td>1</td>\n",
       "      <td>9819</td>\n",
       "      <td>2</td>\n",
       "      <td>1</td>\n",
       "      <td>0</td>\n",
       "      <td>{'fP': {'fX': -8.623528004487989, 'fY': -9.847...</td>\n",
       "      <td>{'fP': {'fX': -0.41020656128337585, 'fY': -0.4...</td>\n",
       "      <td>{'fP': {'fX': -0.46571464428975384, 'fY': -0.5...</td>\n",
       "      <td>{'fP': {'fX': -0.8759212055731297, 'fY': -0.97...</td>\n",
       "      <td>{'fP': {'fX': -7.747606798914859, 'fY': -8.873...</td>\n",
       "      <td>...</td>\n",
       "      <td>{'fP': {'fX': -8.425411505759826, 'fY': -12.48...</td>\n",
       "      <td>{'fP': {'fX': -7.667214036509944, 'fY': -8.802...</td>\n",
       "      <td>{'fP': {'fX': -0.7581992583694551, 'fY': -3.68...</td>\n",
       "      <td>{'fP': {'fX': -0.32165937136645123, 'fY': -1.3...</td>\n",
       "      <td>321</td>\n",
       "      <td>{'fP': {'fX': -0.4365397502883486, 'fY': -2.29...</td>\n",
       "      <td>-321</td>\n",
       "      <td>{'fP': {'fX': -2.9698838822726104, 'fY': -3.98...</td>\n",
       "      <td>{'fP': {'fX': -4.69732858379471, 'fY': -4.8190...</td>\n",
       "      <td>0</td>\n",
       "    </tr>\n",
       "    <tr>\n",
       "      <th>4</th>\n",
       "      <td>1</td>\n",
       "      <td>2648</td>\n",
       "      <td>2</td>\n",
       "      <td>1</td>\n",
       "      <td>0</td>\n",
       "      <td>{'fP': {'fX': -18.087971417224388, 'fY': 0.402...</td>\n",
       "      <td>{'fP': {'fX': -2.3433540755942093, 'fY': 0.274...</td>\n",
       "      <td>{'fP': {'fX': -1.9904897746506485, 'fY': 0.468...</td>\n",
       "      <td>{'fP': {'fX': -4.3338438502448575, 'fY': 0.743...</td>\n",
       "      <td>{'fP': {'fX': -13.754127566979534, 'fY': -0.34...</td>\n",
       "      <td>...</td>\n",
       "      <td>{'fP': {'fX': -17.77653659707837, 'fY': 0.4205...</td>\n",
       "      <td>{'fP': {'fX': -13.415015970105555, 'fY': -0.32...</td>\n",
       "      <td>{'fP': {'fX': -4.361520751427341, 'fY': 0.7470...</td>\n",
       "      <td>{'fP': {'fX': -2.369998851877147, 'fY': 0.2799...</td>\n",
       "      <td>321</td>\n",
       "      <td>{'fP': {'fX': -1.991522114035498, 'fY': 0.4671...</td>\n",
       "      <td>-321</td>\n",
       "      <td>{'fP': {'fX': -8.330723478915496, 'fY': -0.892...</td>\n",
       "      <td>{'fP': {'fX': -5.083111524519834, 'fY': 0.5659...</td>\n",
       "      <td>0</td>\n",
       "    </tr>\n",
       "  </tbody>\n",
       "</table>\n",
       "<p>5 rows × 87 columns</p>\n",
       "</div>"
      ],
      "text/plain": [
       "   run  event  nCandPerEvent  numPrimaryVertices  trigger   \n",
       "0    1   4569              1                   1        0  \\\n",
       "1    1  10869              1                   2        0   \n",
       "2    1   9819              2                   1        0   \n",
       "3    1   9819              2                   1        0   \n",
       "4    1   2648              2                   1        0   \n",
       "\n",
       "                                        candidate_p4   \n",
       "0  {'fP': {'fX': -10.607800192293274, 'fY': -7.97...  \\\n",
       "1  {'fP': {'fX': -23.599561454715104, 'fY': 29.28...   \n",
       "2  {'fP': {'fX': -8.501415817267192, 'fY': -12.54...   \n",
       "3  {'fP': {'fX': -8.623528004487989, 'fY': -9.847...   \n",
       "4  {'fP': {'fX': -18.087971417224388, 'fY': 0.402...   \n",
       "\n",
       "                                           track1_p4   \n",
       "0  {'fP': {'fX': -0.8436747730534793, 'fY': -1.33...  \\\n",
       "1  {'fP': {'fX': -4.912656531348302, 'fY': 5.2089...   \n",
       "2  {'fP': {'fX': -0.3150685143269803, 'fY': -1.36...   \n",
       "3  {'fP': {'fX': -0.41020656128337585, 'fY': -0.4...   \n",
       "4  {'fP': {'fX': -2.3433540755942093, 'fY': 0.274...   \n",
       "\n",
       "                                           track2_p4   \n",
       "0  {'fP': {'fX': -0.5899554673633698, 'fY': -1.34...  \\\n",
       "1  {'fP': {'fX': -7.549858403886339, 'fY': 8.1284...   \n",
       "2  {'fP': {'fX': -0.4387405040253553, 'fY': -2.30...   \n",
       "3  {'fP': {'fX': -0.46571464428975384, 'fY': -0.5...   \n",
       "4  {'fP': {'fX': -1.9904897746506485, 'fY': 0.468...   \n",
       "\n",
       "                                          ditrack_p4   \n",
       "0  {'fP': {'fX': -1.433630240416849, 'fY': -2.676...  \\\n",
       "1  {'fP': {'fX': -12.46251493523464, 'fY': 13.337...   \n",
       "2  {'fP': {'fX': -0.7538090183523356, 'fY': -3.67...   \n",
       "3  {'fP': {'fX': -0.8759212055731297, 'fY': -0.97...   \n",
       "4  {'fP': {'fX': -4.3338438502448575, 'fY': 0.743...   \n",
       "\n",
       "                                           dimuon_p4  ...   \n",
       "0  {'fP': {'fX': -9.174169951876426, 'fY': -5.296...  ...  \\\n",
       "1  {'fP': {'fX': -11.13704651948046, 'fY': 15.950...  ...   \n",
       "2  {'fP': {'fX': -7.747606798914859, 'fY': -8.873...  ...   \n",
       "3  {'fP': {'fX': -7.747606798914859, 'fY': -8.873...  ...   \n",
       "4  {'fP': {'fX': -13.754127566979534, 'fY': -0.34...  ...   \n",
       "\n",
       "                                    gen_candidate_p4   \n",
       "0  {'fP': {'fX': -10.601495592770007, 'fY': -7.94...  \\\n",
       "1  {'fP': {'fX': -23.593303155908096, 'fY': 29.19...   \n",
       "2  {'fP': {'fX': -8.425411505759826, 'fY': -12.48...   \n",
       "3  {'fP': {'fX': -8.425411505759826, 'fY': -12.48...   \n",
       "4  {'fP': {'fX': -17.77653659707837, 'fY': 0.4205...   \n",
       "\n",
       "                                       gen_dimuon_p4   \n",
       "0  {'fP': {'fX': -9.16633552757321, 'fY': -5.2712...  \\\n",
       "1  {'fP': {'fX': -11.091695695226177, 'fY': 15.81...   \n",
       "2  {'fP': {'fX': -7.667214036509944, 'fY': -8.802...   \n",
       "3  {'fP': {'fX': -7.667214036509944, 'fY': -8.802...   \n",
       "4  {'fP': {'fX': -13.415015970105555, 'fY': -0.32...   \n",
       "\n",
       "                                      gen_ditrack_p4   \n",
       "0  {'fP': {'fX': -1.4351598328431807, 'fY': -2.67...  \\\n",
       "1  {'fP': {'fX': -12.501612150718156, 'fY': 13.37...   \n",
       "2  {'fP': {'fX': -0.7581992583694551, 'fY': -3.68...   \n",
       "3  {'fP': {'fX': -0.7581992583694551, 'fY': -3.68...   \n",
       "4  {'fP': {'fX': -4.361520751427341, 'fY': 0.7470...   \n",
       "\n",
       "                                       gen_track1_p4  gen_track1_pdgid   \n",
       "0  {'fP': {'fX': -0.8522694890709798, 'fY': -1.34...               321  \\\n",
       "1  {'fP': {'fX': -5.00133516631274, 'fY': 5.30425...               321   \n",
       "2  {'fP': {'fX': -0.32165937136645123, 'fY': -1.3...               321   \n",
       "3  {'fP': {'fX': -0.32165937136645123, 'fY': -1.3...               321   \n",
       "4  {'fP': {'fX': -2.369998851877147, 'fY': 0.2799...               321   \n",
       "\n",
       "                                       gen_track2_p4  gen_track2_pdgid   \n",
       "0  {'fP': {'fX': -0.5828901454518819, 'fY': -1.33...              -321  \\\n",
       "1  {'fP': {'fX': -7.500276380860765, 'fY': 8.0740...              -321   \n",
       "2  {'fP': {'fX': -0.4365397502883486, 'fY': -2.29...              -321   \n",
       "3  {'fP': {'fX': -0.4365397502883486, 'fY': -2.29...              -321   \n",
       "4  {'fP': {'fX': -1.991522114035498, 'fY': 0.4671...              -321   \n",
       "\n",
       "                                        gen_muonp_p4   \n",
       "0  {'fP': {'fX': -4.25311398097311, 'fY': -4.0550...  \\\n",
       "1  {'fP': {'fX': -3.074466227521373, 'fY': 2.9004...   \n",
       "2  {'fP': {'fX': -2.9698838822726104, 'fY': -3.98...   \n",
       "3  {'fP': {'fX': -2.9698838822726104, 'fY': -3.98...   \n",
       "4  {'fP': {'fX': -8.330723478915496, 'fY': -0.892...   \n",
       "\n",
       "                                        gen_muonn_p4  gen_candidate_charge  \n",
       "0  {'fP': {'fX': -4.912993305952113, 'fY': -1.216...                     0  \n",
       "1  {'fP': {'fX': -8.017215596623757, 'fY': 12.914...                     0  \n",
       "2  {'fP': {'fX': -4.69732858379471, 'fY': -4.8190...                     0  \n",
       "3  {'fP': {'fX': -4.69732858379471, 'fY': -4.8190...                     0  \n",
       "4  {'fP': {'fX': -5.083111524519834, 'fY': 0.5659...                     0  \n",
       "\n",
       "[5 rows x 87 columns]"
      ]
     },
     "execution_count": 25,
     "metadata": {},
     "output_type": "execute_result"
    }
   ],
   "source": [
    "mumutrktrk_df.head()"
   ]
  },
  {
   "cell_type": "code",
   "execution_count": 26,
   "metadata": {},
   "outputs": [],
   "source": [
    "mumutrktrk_mass = mumutrktrk_df[\"candidate_vMass\"]"
   ]
  },
  {
   "cell_type": "code",
   "execution_count": 27,
   "metadata": {},
   "outputs": [],
   "source": [
    "B = 100\n",
    "R = (5.0,6.0)\n",
    "BW = (R[1]-R[0])/B * 1000"
   ]
  },
  {
   "cell_type": "code",
   "execution_count": 29,
   "metadata": {},
   "outputs": [
    {
     "data": {
      "image/png": "[encoded data removed]",
      "text/plain": [
       "<Figure size 1200x900 with 1 Axes>"
      ]
     },
     "metadata": {},
     "output_type": "display_data"
    }
   ],
   "source": [
    "n_cands = mumutrktrk_df[\"nCandPerEvent\"].sum()\n",
    "\n",
    "plt.hist(mumutrktrk_mass,range=R,bins=B,color=\"blue\",label=\"N(B_s) = %d\"%(n_cands));\n",
    "\n",
    "plt.legend(fontsize = 16)\n",
    "plt.xlabel(\"$M(B_s)$\",fontsize=14)\n",
    "plt.ylabel(\"Entries / %.3f MeV\"%BW,fontsize=14)\n",
    "\n",
    "plt.title(r\"$B_s \\to J\\psi \\Phi \\to \\mu\\mu KK$\",fontsize=20);"
   ]
  },
  {
   "cell_type": "code",
   "execution_count": null,
   "metadata": {},
   "outputs": [],
   "source": []
  }
 ],
 "metadata": {
  "kernelspec": {
   "display_name": "Python 3 (ipykernel)",
   "language": "python",
   "name": "python3"
  },
  "language_info": {
   "codemirror_mode": {
    "name": "ipython",
    "version": 3
   },
   "file_extension": ".py",
   "mimetype": "text/x-python",
   "name": "python",
   "nbconvert_exporter": "python",
   "pygments_lexer": "ipython3",
   "version": "3.9.14"
  }
 },
 "nbformat": 4,
 "nbformat_minor": 4
}
